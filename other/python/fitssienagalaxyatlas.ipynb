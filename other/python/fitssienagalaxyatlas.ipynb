{
 "cells": [
  {
   "cell_type": "code",
   "execution_count": 1,
   "id": "ef8ce679-7de4-458d-af9b-5296f3b57dd5",
   "metadata": {
    "tags": []
   },
   "outputs": [],
   "source": [
    "import math\n",
    "import fitsio\n",
    "\n",
    "columns = ['Z_LEDA']\n",
    "d = fitsio.read('Downloads/SGA-2020.fits', columns=columns)\n",
    "\n",
    "# data model https://portal.nersc.gov/project/cosmo/temp/ioannis/sga-dr9/sga/sga2020/#sga-2020-fits"
   ]
  },
  {
   "cell_type": "code",
   "execution_count": 5,
   "id": "e9d82e68-57d6-4bfb-b3ef-84e684ea613f",
   "metadata": {
    "tags": []
   },
   "outputs": [
    {
     "ename": "NameError",
     "evalue": "name 'f' is not defined",
     "output_type": "error",
     "traceback": [
      "\u001b[0;31m---------------------------------------------------------------------------\u001b[0m",
      "\u001b[0;31mNameError\u001b[0m                                 Traceback (most recent call last)",
      "Cell \u001b[0;32mIn[5], line 13\u001b[0m\n\u001b[1;32m     10\u001b[0m     \u001b[38;5;28;01mexcept\u001b[39;00m:\n\u001b[1;32m     11\u001b[0m         \u001b[38;5;28mprint\u001b[39m(\u001b[38;5;124m\"\u001b[39m\u001b[38;5;124mskip\u001b[39m\u001b[38;5;124m\"\u001b[39m)\n\u001b[0;32m---> 13\u001b[0m \u001b[43mf\u001b[49m\u001b[38;5;241m.\u001b[39mclose()\n",
      "\u001b[0;31mNameError\u001b[0m: name 'f' is not defined"
     ]
    }
   ],
   "source": [
    "f2 = open(\"agnsiena\", \"a\")\n",
    "for i in d:\n",
    "    if i[0] < 0:\n",
    "        continue\n",
    "    \n",
    "    try:\n",
    "        \n",
    "        f2.write(str(round(i[0], 4)))\n",
    "        f2.write(\"\\n\")\n",
    "    except:\n",
    "        print(\"skip\")\n",
    "    \n",
    "f2.close()"
   ]
  },
  {
   "cell_type": "code",
   "execution_count": null,
   "id": "272c7464-266a-454c-9237-91a4b2c2b0e3",
   "metadata": {},
   "outputs": [],
   "source": []
  }
 ],
 "metadata": {
  "kernelspec": {
   "display_name": "Python 3 (ipykernel)",
   "language": "python",
   "name": "python3"
  },
  "language_info": {
   "codemirror_mode": {
    "name": "ipython",
    "version": 3
   },
   "file_extension": ".py",
   "mimetype": "text/x-python",
   "name": "python",
   "nbconvert_exporter": "python",
   "pygments_lexer": "ipython3",
   "version": "3.10.12"
  }
 },
 "nbformat": 4,
 "nbformat_minor": 5
}
