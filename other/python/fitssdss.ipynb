{
 "cells": [
  {
   "cell_type": "code",
   "execution_count": 2,
   "id": "ef8ce679-7de4-458d-af9b-5296f3b57dd5",
   "metadata": {
    "tags": []
   },
   "outputs": [],
   "source": [
    "import math\n",
    "import fitsio\n",
    "\n",
    "columns = ['Z', 'M_I']\n",
    "d = fitsio.read('Downloads/DR16Q_v4.fits', columns=columns)\n"
   ]
  },
  {
   "cell_type": "code",
   "execution_count": 3,
   "id": "c4c4cba2-fbeb-4582-b649-39dd722f7c2b",
   "metadata": {
    "tags": []
   },
   "outputs": [],
   "source": [
    "import cosmolopy.magnitudes as cm\n",
    "\n",
    "# calculates Lambda-CDM\n",
    "cosmo = {'omega_M_0' : 0.31, 'omega_lambda_0' : 0.69, \n",
    "         'h' : 0.676, 'omega_k_0': 0}\n",
    "cosmo73 = {'omega_M_0' : 0.31, 'omega_lambda_0' : 0.69, \n",
    "         'h' : 0.73, 'omega_k_0': 0}\n"
   ]
  },
  {
   "cell_type": "code",
   "execution_count": 4,
   "id": "e9d82e68-57d6-4bfb-b3ef-84e684ea613f",
   "metadata": {
    "tags": []
   },
   "outputs": [
    {
     "name": "stderr",
     "output_type": "stream",
     "text": [
      "/usr/local/lib/python3.10/dist-packages/cosmolopy-0.4.1-py3.10-linux-x86_64.egg/cosmolopy/magnitudes.py:139: RuntimeWarning: invalid value encountered in log10\n",
      "  mu = 5 * numpy.log10(dl/(10e-6))\n"
     ]
    },
    {
     "name": "stdout",
     "output_type": "stream",
     "text": [
      "skip\n"
     ]
    },
    {
     "name": "stderr",
     "output_type": "stream",
     "text": [
      "/usr/local/lib/python3.10/dist-packages/cosmolopy-0.4.1-py3.10-linux-x86_64.egg/cosmolopy/distance.py:102: RuntimeWarning: invalid value encountered in double_scalars\n",
      "  e_z = (omega_M_0 * (1+z)**3. +\n",
      "/usr/local/lib/python3.10/dist-packages/cosmolopy-0.4.1-py3.10-linux-x86_64.egg/cosmolopy/distance.py:167: IntegrationWarning: The occurrence of roundoff error is detected, which prevents \n",
      "  the requested tolerance from being achieved.  The error may be \n",
      "  underestimated.\n",
      "  si.quad(_comoving_integrand, z0, z, limit=1000,\n"
     ]
    },
    {
     "name": "stdout",
     "output_type": "stream",
     "text": [
      "skip\n",
      "skip\n",
      "skip\n",
      "skip\n",
      "skip\n",
      "skip\n",
      "skip\n",
      "skip\n",
      "skip\n"
     ]
    }
   ],
   "source": [
    "f = open(\"sdss\", \"a\")\n",
    "for i in d:\n",
    "    try:\n",
    "        dm = cm.distance_modulus(i[0], **cosmo)\n",
    "        dm73 = cm.distance_modulus(i[0], **cosmo73)\n",
    "        \n",
    "        m = dm + i[1]\n",
    "        M73 = m - dm73\n",
    "        \n",
    "        z = i[0]\n",
    "        dL = 299792/70.5 * (1+z) * math.log(1+z)\n",
    "        dmH = 5 * math.log10(dL) + 25\n",
    "        \n",
    "        MH = m - dmH\n",
    "        \n",
    "        f.write(str(round(i[0], 4)) + \",\")\n",
    "        f.write(str(round(i[1], 4)) + \",\")\n",
    "        f.write(str(round(M73, 4)) + \",\")\n",
    "        f.write(str(round(MH, 4)))\n",
    "    \n",
    "        f.write(\"\\n\")\n",
    "    except:\n",
    "        print(\"skip\")\n",
    "    \n",
    "f.close()"
   ]
  },
  {
   "cell_type": "code",
   "execution_count": null,
   "id": "906f06d0-3d22-4d5f-ae3a-c2dc26b27b00",
   "metadata": {},
   "outputs": [],
   "source": []
  }
 ],
 "metadata": {
  "kernelspec": {
   "display_name": "Python 3 (ipykernel)",
   "language": "python",
   "name": "python3"
  },
  "language_info": {
   "codemirror_mode": {
    "name": "ipython",
    "version": 3
   },
   "file_extension": ".py",
   "mimetype": "text/x-python",
   "name": "python",
   "nbconvert_exporter": "python",
   "pygments_lexer": "ipython3",
   "version": "3.10.12"
  }
 },
 "nbformat": 4,
 "nbformat_minor": 5
}
