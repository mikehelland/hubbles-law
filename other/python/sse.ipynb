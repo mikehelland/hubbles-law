{
 "cells": [
  {
   "cell_type": "code",
   "execution_count": 1,
   "id": "565bb416-580b-4f43-a0a9-434f5c36fb2d",
   "metadata": {
    "tags": []
   },
   "outputs": [],
   "source": [
    "from urllib.request import urlopen\n",
    "\n",
    "data = []\n",
    "url = \"https://raw.githubusercontent.com/PantheonPlusSH0ES/DataRelease/main/Pantheon%2B_Data/4_DISTANCES_AND_COVAR/Pantheon%2BSH0ES.dat\"\n",
    "for line in urlopen(url):\n",
    "    vals = line.split(b\" \")\n",
    "    \n",
    "    # skip the headers\n",
    "    if vals[0] == b\"CID\": continue \n",
    "    \n",
    "    data.append({\"z\": float(vals[2]), \"mu\": float(vals[10])})"
   ]
  },
  {
   "cell_type": "code",
   "execution_count": 2,
   "id": "4e2ce59f-c9cd-41cc-b894-041ac8a553cb",
   "metadata": {
    "tags": []
   },
   "outputs": [],
   "source": [
    "import cosmolopy.magnitudes as cm\n",
    "\n",
    "# calculates Lambda-CDM\n",
    "cosmo = {'omega_M_0' : 0.3, 'omega_lambda_0' : 0.7, \n",
    "         'h' : 0.70, 'omega_k_0': 0}\n",
    "\n",
    "def calculateMu(z):\n",
    "    return cm.distance_modulus(z, **cosmo)"
   ]
  },
  {
   "cell_type": "code",
   "execution_count": 3,
   "id": "aaab2b5c-98cb-49b4-8478-11a6b2d70c5b",
   "metadata": {
    "tags": []
   },
   "outputs": [],
   "source": [
    "def sse():\n",
    "    totalErrors = 0\n",
    "    for sn in data:\n",
    "        if sn[\"z\"] > 1: break\n",
    "        \n",
    "        error = calculateMu(sn[\"z\"]) - sn[\"mu\"]\n",
    "        totalErrors = totalErrors + error**2\n",
    "\n",
    "    return totalErrors"
   ]
  },
  {
   "cell_type": "code",
   "execution_count": 4,
   "id": "2ebaf42e-3562-4d72-8531-439b5cdb796f",
   "metadata": {
    "tags": []
   },
   "outputs": [
    {
     "name": "stdout",
     "output_type": "stream",
     "text": [
      "{'H': 73.2, 'sse': 49.776740614452095}\n"
     ]
    }
   ],
   "source": [
    "lowestSSE = {\"sse\": -1}\n",
    "for i in range(30):\n",
    "    H = 69 + i/5\n",
    "    cosmo[\"h\"] = H/100\n",
    "    \n",
    "    SSE = sse()\n",
    "    if lowestSSE[\"sse\"] == -1 or SSE < lowestSSE[\"sse\"]:\n",
    "        lowestSSE = {\"H\": H, \"sse\": SSE}\n",
    "\n",
    "print(lowestSSE)"
   ]
  },
  {
   "cell_type": "code",
   "execution_count": 5,
   "id": "dd7c54cf-5336-407d-8e79-cf89cf61b9d1",
   "metadata": {
    "tags": []
   },
   "outputs": [],
   "source": [
    "import math\n",
    "\n",
    "def calculateMu(z):\n",
    "    d_L = 299792/H * (1+z) * math.log(1+z)\n",
    "    mu = 5 * math.log10(d_L) + 25\n",
    "    return mu"
   ]
  },
  {
   "cell_type": "code",
   "execution_count": null,
   "id": "f6bc9cf5-7968-44f4-82de-a5e397fc6b67",
   "metadata": {},
   "outputs": [],
   "source": []
  }
 ],
 "metadata": {
  "kernelspec": {
   "display_name": "Python 3 (ipykernel)",
   "language": "python",
   "name": "python3"
  },
  "language_info": {
   "codemirror_mode": {
    "name": "ipython",
    "version": 3
   },
   "file_extension": ".py",
   "mimetype": "text/x-python",
   "name": "python",
   "nbconvert_exporter": "python",
   "pygments_lexer": "ipython3",
   "version": "3.10.12"
  }
 },
 "nbformat": 4,
 "nbformat_minor": 5
}
