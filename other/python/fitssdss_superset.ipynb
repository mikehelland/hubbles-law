{
 "cells": [
  {
   "cell_type": "code",
   "execution_count": 2,
   "id": "ef8ce679-7de4-458d-af9b-5296f3b57dd5",
   "metadata": {
    "tags": []
   },
   "outputs": [],
   "source": [
    "import math\n",
    "import fitsio\n",
    "\n",
    "columns = ['Z', 'IS_QSO_FINAL']\n",
    "d = fitsio.read('Downloads/DR16Q_Superset_v3.fits', columns=columns)\n"
   ]
  },
  {
   "cell_type": "code",
   "execution_count": 6,
   "id": "e9d82e68-57d6-4bfb-b3ef-84e684ea613f",
   "metadata": {
    "tags": []
   },
   "outputs": [],
   "source": [
    "f = open(\"qsosdss\", \"a\")\n",
    "f2 = open(\"agnsdss\", \"a\")\n",
    "for i in d:\n",
    "    try:\n",
    "        if i[0] == 1:\n",
    "            f.write(str(round(i[1], 4)))\n",
    "            f.write(\"\\n\")\n",
    "        else:\n",
    "            f2.write(str(round(i[1], 4)))\n",
    "            f2.write(\"\\n\")\n",
    "    except:\n",
    "        print(\"skip\")\n",
    "    \n",
    "f.close()"
   ]
  },
  {
   "cell_type": "code",
   "execution_count": 4,
   "id": "906f06d0-3d22-4d5f-ae3a-c2dc26b27b00",
   "metadata": {},
   "outputs": [
    {
     "data": {
      "text/plain": [
       "1440615"
      ]
     },
     "execution_count": 4,
     "metadata": {},
     "output_type": "execute_result"
    }
   ],
   "source": [
    "len(d)"
   ]
  },
  {
   "cell_type": "code",
   "execution_count": 5,
   "id": "7e1cd1c1-9b2d-42ff-bb46-a9f1f37a9c35",
   "metadata": {
    "tags": []
   },
   "outputs": [
    {
     "data": {
      "text/plain": [
       "(0, -0.00068493)"
      ]
     },
     "execution_count": 5,
     "metadata": {},
     "output_type": "execute_result"
    }
   ],
   "source": [
    "d[1]"
   ]
  },
  {
   "cell_type": "code",
   "execution_count": null,
   "id": "b2535b5f-d2f6-4359-a012-fee3e7560242",
   "metadata": {},
   "outputs": [],
   "source": []
  }
 ],
 "metadata": {
  "kernelspec": {
   "display_name": "Python 3 (ipykernel)",
   "language": "python",
   "name": "python3"
  },
  "language_info": {
   "codemirror_mode": {
    "name": "ipython",
    "version": 3
   },
   "file_extension": ".py",
   "mimetype": "text/x-python",
   "name": "python",
   "nbconvert_exporter": "python",
   "pygments_lexer": "ipython3",
   "version": "3.10.12"
  }
 },
 "nbformat": 4,
 "nbformat_minor": 5
}
