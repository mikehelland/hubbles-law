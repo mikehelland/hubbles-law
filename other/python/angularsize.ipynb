{
 "cells": [
  {
   "cell_type": "code",
   "execution_count": 1,
   "id": "bb00110a-cd80-433a-9a77-f276aa5ab28d",
   "metadata": {
    "tags": []
   },
   "outputs": [],
   "source": [
    "H0km = 67.7\n",
    "Ωm = 0.31\n",
    "ΩΛ = 1 - Ωm"
   ]
  },
  {
   "cell_type": "code",
   "execution_count": 4,
   "id": "46c91747-7eee-4062-90a9-beac62d85ff9",
   "metadata": {
    "tags": []
   },
   "outputs": [
    {
     "name": "stdout",
     "output_type": "stream",
     "text": [
      "ΛCDM\n",
      "0.08388580531792875\n",
      "z/(1+z)\n",
      "0.3781891029309536\n",
      "log(1+z)\n",
      "1.0032479767873617\n",
      "z\n",
      "4.23571795282668\n"
     ]
    }
   ],
   "source": [
    "import cosmolopy.distance as cd\n",
    "import math\n",
    "cosmo = {'omega_M_0' : Ωm, 'omega_lambda_0' : ΩΛ, 'h' : H0km/100}\n",
    "cosmo = cd.set_omega_k_0(cosmo)\n",
    "\n",
    "z = 10.2\n",
    "arcsec = 0.02\n",
    "\n",
    "d_A = cd.angular_diameter_distance(z, **cosmo)\n",
    "    \n",
    "a = 2 * math.pi * arcsec / (360 * 3600)\n",
    "\n",
    "print(\"ΛCDM\")\n",
    "print(d_A * a * 1000)\n",
    "\n",
    "d_A = 299792/70 * z/(1+z)\n",
    "print(\"z/(1+z)\")\n",
    "print(d_A * a * 1000)\n",
    "\n",
    "d_A = 299792/70 * math.log(1+z)\n",
    "print(\"log(1+z)\")\n",
    "print(d_A * a * 1000)\n",
    "\n",
    "d_A = 299792/70 * z\n",
    "print(\"z\")\n",
    "print(d_A * a * 1000)\n"
   ]
  },
  {
   "cell_type": "code",
   "execution_count": null,
   "id": "5963c6a5-5c82-446a-88dd-693b0eb4eb6e",
   "metadata": {},
   "outputs": [],
   "source": []
  },
  {
   "cell_type": "code",
   "execution_count": null,
   "id": "1d912e97-11b6-4f72-ab8a-f92e1a311149",
   "metadata": {},
   "outputs": [],
   "source": []
  }
 ],
 "metadata": {
  "kernelspec": {
   "display_name": "Python 3 (ipykernel)",
   "language": "python",
   "name": "python3"
  },
  "language_info": {
   "codemirror_mode": {
    "name": "ipython",
    "version": 3
   },
   "file_extension": ".py",
   "mimetype": "text/x-python",
   "name": "python",
   "nbconvert_exporter": "python",
   "pygments_lexer": "ipython3",
   "version": "3.10.12"
  }
 },
 "nbformat": 4,
 "nbformat_minor": 5
}
