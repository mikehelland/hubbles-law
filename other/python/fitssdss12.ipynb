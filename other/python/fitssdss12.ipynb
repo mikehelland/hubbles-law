{
 "cells": [
  {
   "cell_type": "code",
   "execution_count": 4,
   "id": "ef8ce679-7de4-458d-af9b-5296f3b57dd5",
   "metadata": {
    "tags": []
   },
   "outputs": [
    {
     "data": {
      "text/plain": [
       "19442"
      ]
     },
     "execution_count": 4,
     "metadata": {},
     "output_type": "execute_result"
    }
   ],
   "source": [
    "import math\n",
    "import fitsio\n",
    "\n",
    "#DR16\n",
    "#columns = ['Z', 'M_I']\n",
    "\n",
    "#DR12\n",
    "columns = ['Z_PIPE']\n",
    "\n",
    "d = fitsio.read('Downloads/DR12Qa.fits', columns=columns)\n",
    "\n",
    "len(d)"
   ]
  },
  {
   "cell_type": "code",
   "execution_count": 13,
   "id": "c4c4cba2-fbeb-4582-b649-39dd722f7c2b",
   "metadata": {
    "tags": []
   },
   "outputs": [],
   "source": [
    "import cosmolopy.magnitudes as cm\n",
    "\n",
    "# calculates Lambda-CDM\n",
    "cosmo = {'omega_M_0' : 0.31, 'omega_lambda_0' : 0.69, \n",
    "         'h' : 0.676, 'omega_k_0': 0}\n",
    "cosmo73 = {'omega_M_0' : 0.31, 'omega_lambda_0' : 0.69, \n",
    "         'h' : 0.73, 'omega_k_0': 0}\n"
   ]
  },
  {
   "cell_type": "code",
   "execution_count": 4,
   "id": "e9d82e68-57d6-4bfb-b3ef-84e684ea613f",
   "metadata": {
    "tags": []
   },
   "outputs": [],
   "source": [
    "f = open(\"sdss12\", \"a\")\n",
    "for i in d:\n",
    "    break\n",
    "    try:\n",
    "        \n",
    "        z = i[1]\n",
    "        \n",
    "        dm = cm.distance_modulus(z, **cosmo)\n",
    "        dm73 = cm.distance_modulus(z, **cosmo73)\n",
    "        \n",
    "        m = dm + i[2]\n",
    "        M73 = m - dm73\n",
    "        \n",
    "        dL = 299792/70.5 * (1+z) * math.log(1+z)\n",
    "        dmH = 5 * math.log10(dL) + 25\n",
    "        \n",
    "        MH = m - dmH\n",
    "        \n",
    "        f.write(str(round(z, 4)) + \",\")\n",
    "        f.write(str(round(i[2], 4)) + \",\")\n",
    "        f.write(str(round(M73, 4)) + \",\")\n",
    "        f.write(str(round(MH, 4)))\n",
    "    \n",
    "        f.write(\"\\n\")\n",
    "    except:\n",
    "        print(\"skip\")\n",
    "    \n",
    "f.close()"
   ]
  },
  {
   "cell_type": "code",
   "execution_count": 3,
   "id": "906f06d0-3d22-4d5f-ae3a-c2dc26b27b00",
   "metadata": {},
   "outputs": [],
   "source": [
    "for i in d:\n",
    "    if i[0] == \"J0905+5859\":\n",
    "        print(i)\n",
    "        break"
   ]
  },
  {
   "cell_type": "code",
   "execution_count": 5,
   "id": "d3a19fc0-80c4-4d3a-a3ef-118b9fd9e651",
   "metadata": {
    "tags": []
   },
   "outputs": [
    {
     "data": {
      "text/plain": [
       "67"
      ]
     },
     "execution_count": 5,
     "metadata": {},
     "output_type": "execute_result"
    }
   ],
   "source": [
    "d[10000]"
   ]
  },
  {
   "cell_type": "code",
   "execution_count": 6,
   "id": "2e8b0b45-3565-419b-b358-aec2397262aa",
   "metadata": {
    "tags": []
   },
   "outputs": [],
   "source": [
    "from astropy.io import fits\n",
    "dr12 = fits.open(\"Downloads/DR12Q.fits\")"
   ]
  },
  {
   "cell_type": "code",
   "execution_count": 7,
   "id": "c05c2934-d3e1-4a2b-8d2e-165c9ae37c74",
   "metadata": {
    "tags": []
   },
   "outputs": [
    {
     "data": {
      "text/plain": [
       "2"
      ]
     },
     "execution_count": 7,
     "metadata": {},
     "output_type": "execute_result"
    }
   ],
   "source": [
    "len(dr12)"
   ]
  },
  {
   "cell_type": "code",
   "execution_count": 13,
   "id": "4adbe8a4-b9cf-4b96-bd33-6eb9303c0c1d",
   "metadata": {
    "tags": []
   },
   "outputs": [
    {
     "data": {
      "text/plain": [
       "297301"
      ]
     },
     "execution_count": 13,
     "metadata": {},
     "output_type": "execute_result"
    }
   ],
   "source": [
    "len(dr12[1].data[\"Z_PIPE\"])"
   ]
  },
  {
   "cell_type": "code",
   "execution_count": 14,
   "id": "256bb17b-e2b3-47ed-b5fa-0470849477c9",
   "metadata": {
    "tags": []
   },
   "outputs": [],
   "source": [
    "f = open(\"sdss12\", \"w\")\n",
    "\n",
    "for i in range(len(dr12[1].data[\"Z_PIPE\"])):\n",
    "    f.write(str(round(dr12[1].data[\"Z_PIPE\"][i], 4)) + \",\")\n",
    "    f.write(str(round(dr12[1].data[\"MI\"][i], 4)))\n",
    "    f.write(\"\\n\")\n",
    "\n",
    "f.close()\n",
    "    "
   ]
  },
  {
   "cell_type": "code",
   "execution_count": null,
   "id": "faefd54c-5ecf-4701-a7ec-c66dd7ba477b",
   "metadata": {},
   "outputs": [],
   "source": []
  }
 ],
 "metadata": {
  "kernelspec": {
   "display_name": "Python 3 (ipykernel)",
   "language": "python",
   "name": "python3"
  },
  "language_info": {
   "codemirror_mode": {
    "name": "ipython",
    "version": 3
   },
   "file_extension": ".py",
   "mimetype": "text/x-python",
   "name": "python",
   "nbconvert_exporter": "python",
   "pygments_lexer": "ipython3",
   "version": "3.10.12"
  }
 },
 "nbformat": 4,
 "nbformat_minor": 5
}
