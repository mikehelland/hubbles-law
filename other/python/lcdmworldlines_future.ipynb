{
 "cells": [
  {
   "cell_type": "code",
   "execution_count": 1,
   "id": "bb00110a-cd80-433a-9a77-f276aa5ab28d",
   "metadata": {
    "tags": []
   },
   "outputs": [],
   "source": [
    "data = [[1, 0, 0, 0]]\n",
    "\n",
    "H0 = 67.4\n",
    "OmegaL = 0.68\n",
    "OmegaM = 1 - OmegaL\n",
    "H0 = H0 / 3.08e19 * 60 * 60 * 24 * 365 * 1e6\n",
    "H = H0\n",
    "c = 1\n",
    "z = 0\n",
    "t = 0\n",
    "\n",
    "x = 0\n",
    "a = 1\n",
    "\n",
    "objs = []\n",
    "for n in range(20):\n",
    "    objs.append({\"x\": n * 1000, \"x0\": n * 1000, \"data\": [n * 1000]})\n",
    "\n",
    "while x >= 0:\n",
    "    t -= 1\n",
    "    x += c - H * x\n",
    "    \n",
    "    a -= H * a\n",
    "    \n",
    "    for obj in objs:\n",
    "        obj[\"x\"] -= H * obj[\"x\"]\n",
    "        obj[\"data\"].append(obj[\"x\"])\n",
    "    \n",
    "    \n",
    "    H = H0 * (OmegaM * a**-3 + OmegaL)**0.5\n",
    "\n",
    "    data.append([a, t, x, x * (1 + z)])\n",
    "\n",
    "tbb = t"
   ]
  },
  {
   "cell_type": "code",
   "execution_count": 2,
   "id": "1a313a2e-6b1f-4d9e-8e97-69f5f588efe3",
   "metadata": {
    "tags": []
   },
   "outputs": [],
   "source": [
    "data.reverse()\n",
    "\n",
    "z = 0\n",
    "t = 0\n",
    "x = 0\n",
    "a = 1\n",
    "\n",
    "n = 0\n",
    "for obj in objs:\n",
    "    obj[\"x\"] = n * 1000\n",
    "    obj[\"data\"].reverse()\n",
    "    n += 1\n",
    "\n",
    "H = H0\n",
    "\n",
    "while t < 40000:\n",
    "    t += 1\n",
    "\n",
    "    x += c + H * x    \n",
    "    a += H * a\n",
    "    \n",
    "    for obj in objs:\n",
    "        obj[\"x\"] += H * obj[\"x\"]\n",
    "        obj[\"data\"].append(obj[\"x\"])\n",
    "    \n",
    "    \n",
    "    H = H0 * (OmegaM * a**-3 + OmegaL)**0.5\n",
    "\n",
    "    data.append([a, t, x, x * (1 + z)])\n"
   ]
  },
  {
   "cell_type": "code",
   "execution_count": 3,
   "id": "a0a9b2a7-8d73-46ca-9197-39036759f322",
   "metadata": {
    "tags": []
   },
   "outputs": [],
   "source": [
    "data2 = [[1, 0, 0, 0]]\n",
    "\n",
    "H0 = 67.4 * 0.68**0.5\n",
    "H0cap = H0\n",
    "OmegaL = 1\n",
    "OmegaM = 1 - OmegaL\n",
    "H0 = H0 / 3.08e19 * 60 * 60 * 24 * 365 * 1e6\n",
    "H = H0\n",
    "c = 1\n",
    "z = 0\n",
    "t = 0\n",
    "\n",
    "x = 0\n",
    "a = 1\n",
    "\n",
    "while t > tbb:\n",
    "    t -= 1\n",
    "    x += c - H * x\n",
    "    \n",
    "    a -= H * a\n",
    "    \n",
    "    \n",
    "    H = H0 * (OmegaM * a**-3 + OmegaL)**0.5\n",
    "\n",
    "    data2.append([a, t, x, x * (1 + z)])\n"
   ]
  },
  {
   "cell_type": "code",
   "execution_count": 4,
   "id": "c7649d7b-caf2-406b-968d-d29bcd2afaee",
   "metadata": {
    "tags": []
   },
   "outputs": [],
   "source": [
    "data2.reverse()\n",
    "\n",
    "z = 0\n",
    "t = 0\n",
    "x = 0\n",
    "a = 1\n",
    "\n",
    "H = H0\n",
    "\n",
    "while t < 40000:\n",
    "    t += 1\n",
    "\n",
    "    x += c + H * x    \n",
    "    a += H * a\n",
    "    \n",
    "    H = H0 * (OmegaM * a**-3 + OmegaL)**0.5\n",
    "\n",
    "    data2.append([a, t, x, x * (1 + z)])\n"
   ]
  },
  {
   "cell_type": "code",
   "execution_count": 5,
   "id": "ff57f34e-3f13-45a3-a425-994d2aec5406",
   "metadata": {
    "tags": []
   },
   "outputs": [
    {
     "data": {
      "image/png": "[encoded data removed]",
      "text/plain": [
       "<Figure size 640x480 with 1 Axes>"
      ]
     },
     "metadata": {},
     "output_type": "display_data"
    }
   ],
   "source": [
    "import matplotlib.pyplot as plt\n",
    "\n",
    "plt.style.use(\"dark_background\")\n",
    "dataz = []\n",
    "dataz2 = []\n",
    "dataC = []\n",
    "dataA = []\n",
    "dataT = []\n",
    "\n",
    "\n",
    "for i in range(len(data)):\n",
    "    dataz.append(data[i][0])\n",
    "    dataT.append(data[i][1] / 1000)\n",
    "    dataA.append(data[i][2])\n",
    "    dataC.append(data[i][3])\n",
    "\n",
    "for i in range(len(data2)):\n",
    "    dataz2.append(data2[i][0])\n",
    "\n",
    "#for obj in objs:\n",
    "#    plt.plot(obj[\"data\"], dataT, color = \"blue\")\n",
    "\n",
    "\n",
    "#plt.plot(dataA, dataT, label = \"photon\", color = \"yellow\")\n",
    "plt.plot(dataz, dataT, label = \"LCDM $H_0 = 67.4$\", color = \"blue\")\n",
    "plt.plot(dataz2, dataT, label = \"de Sitter $H_0 = \" + str(55.6) +\"$\", color = \"red\")\n",
    "    \n",
    "plt.xlabel(\"$a(t)$\")\n",
    "plt.ylabel(\"Time (billion years)\")\n",
    "plt.legend()\n",
    "\n",
    "plt.savefig('wl.png',  bbox_inches='tight')\n",
    "plt.show()"
   ]
  },
  {
   "cell_type": "code",
   "execution_count": null,
   "id": "a04d9379-ee0b-4594-926f-64f51e10dcb4",
   "metadata": {},
   "outputs": [],
   "source": []
  }
 ],
 "metadata": {
  "kernelspec": {
   "display_name": "Python 3 (ipykernel)",
   "language": "python",
   "name": "python3"
  },
  "language_info": {
   "codemirror_mode": {
    "name": "ipython",
    "version": 3
   },
   "file_extension": ".py",
   "mimetype": "text/x-python",
   "name": "python",
   "nbconvert_exporter": "python",
   "pygments_lexer": "ipython3",
   "version": "3.10.12"
  }
 },
 "nbformat": 4,
 "nbformat_minor": 5
}
