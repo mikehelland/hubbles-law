{
 "cells": [
  {
   "cell_type": "code",
   "execution_count": 1,
   "id": "256903ca-8dff-477f-9ba2-977ef401ae1c",
   "metadata": {
    "tags": []
   },
   "outputs": [],
   "source": [
    "import sympy\n",
    "import math\n",
    "from sympy import diag, E, sin, cos\n",
    "from einsteinpy.symbolic import MetricTensor, ChristoffelSymbols, RicciTensor, RicciScalar, RiemannCurvatureTensor\n",
    "\n",
    "sympy.init_printing()"
   ]
  },
  {
   "cell_type": "code",
   "execution_count": 2,
   "id": "756025a2-dfb6-415d-be1e-98973459cb2f",
   "metadata": {
    "tags": []
   },
   "outputs": [
    {
     "data": {
      "text/latex": [
       "$\\displaystyle \\left[\\begin{matrix}- \\left(- H r + c\\right)^{2} & 0 & 0 & 0\\\\0 & 1 & 0 & 0\\\\0 & 0 & r^{2} & 0\\\\0 & 0 & 0 & r^{2} \\sin^{2}{\\left(\\theta \\right)}\\end{matrix}\\right]$"
      ],
      "text/plain": [
       "⎡           2                   ⎤\n",
       "⎢-(-H⋅r + c)   0  0       0     ⎥\n",
       "⎢                               ⎥\n",
       "⎢     0        1  0       0     ⎥\n",
       "⎢                               ⎥\n",
       "⎢                  2            ⎥\n",
       "⎢     0        0  r       0     ⎥\n",
       "⎢                               ⎥\n",
       "⎢                      2    2   ⎥\n",
       "⎣     0        0  0   r ⋅sin (θ)⎦"
      ]
     },
     "execution_count": 2,
     "metadata": {},
     "output_type": "execute_result"
    }
   ],
   "source": [
    "coords = sympy.symbols('t r theta phi')\n",
    "consts = sympy.symbols('R c H')\n",
    "c2 = consts[1] ** 2\n",
    "c = consts[1]\n",
    "H = consts[2]\n",
    "t, r, theta, phi = coords\n",
    "R = consts[0]\n",
    "\n",
    "# Minkowski\n",
    "#metric = diag(-c2, 1, r**2 , r**2 * sin(theta)**2).tolist()\n",
    "\n",
    "metric = diag(-c2 * ((c-H * r)/c)**2, 1, r**2 , r**2 * sin(theta)**2).tolist()\n",
    "#metric = diag(-c2 * (1-H * r/c)**-2, 1, r**2 , r**2 * sin(theta)**2).tolist()\n",
    "\n",
    "# de Sitter 1917 static coordinates\n",
    "#metric = diag((1-r**2/R**2), 1/(1-r**2/R**2), r**2 , r**2 * sin(theta)**2).tolist()\n",
    "\n",
    "m_obj = MetricTensor(metric, coords)\n",
    "m_obj.tensor()"
   ]
  },
  {
   "cell_type": "code",
   "execution_count": 3,
   "id": "e335e01f-1cf5-457d-a4d7-dd8b9b9923ae",
   "metadata": {
    "tags": []
   },
   "outputs": [
    {
     "data": {
      "text/latex": [
       "$\\displaystyle \\left[\\begin{matrix}\\frac{2 H \\left(H r - c\\right)}{r} & 0 & 0 & 0\\\\0 & 0 & 0 & 0\\\\0 & 0 & - \\frac{H r}{H r - c} & 0\\\\0 & 0 & 0 & - \\frac{H r \\sin^{2}{\\left(\\theta \\right)}}{H r - c}\\end{matrix}\\right]$"
      ],
      "text/plain": [
       "⎡2⋅H⋅(H⋅r - c)                           ⎤\n",
       "⎢─────────────  0     0           0      ⎥\n",
       "⎢      r                                 ⎥\n",
       "⎢                                        ⎥\n",
       "⎢      0        0     0           0      ⎥\n",
       "⎢                                        ⎥\n",
       "⎢                   -H⋅r                 ⎥\n",
       "⎢      0        0  ───────        0      ⎥\n",
       "⎢                  H⋅r - c               ⎥\n",
       "⎢                                        ⎥\n",
       "⎢                                   2    ⎥\n",
       "⎢                           -H⋅r⋅sin (θ) ⎥\n",
       "⎢      0        0     0     ─────────────⎥\n",
       "⎣                              H⋅r - c   ⎦"
      ]
     },
     "execution_count": 3,
     "metadata": {},
     "output_type": "execute_result"
    }
   ],
   "source": [
    "Ric = RicciTensor.from_metric(m_obj)\n",
    "Ric.tensor()"
   ]
  },
  {
   "cell_type": "code",
   "execution_count": 4,
   "id": "d3df1867-b300-4e9d-b3a9-04f068b2445f",
   "metadata": {},
   "outputs": [
    {
     "data": {
      "image/png": "[encoded data removed]",
      "text/latex": [
       "$\\displaystyle - \\frac{4 H}{r \\left(H r - c\\right)}$"
      ],
      "text/plain": [
       "   -4⋅H    \n",
       "───────────\n",
       "r⋅(H⋅r - c)"
      ]
     },
     "execution_count": 4,
     "metadata": {},
     "output_type": "execute_result"
    }
   ],
   "source": [
    "R = RicciScalar.from_riccitensor(Ric)\n",
    "R.simplify()\n",
    "R.expr"
   ]
  },
  {
   "cell_type": "code",
   "execution_count": 5,
   "id": "75de43e3-c7cc-4a91-ab7c-84a4a431ad00",
   "metadata": {
    "tags": []
   },
   "outputs": [
    {
     "data": {
      "text/latex": [
       "$\\displaystyle \\left[\\begin{matrix}\\left[\\begin{matrix}0 & - \\frac{H \\left(- H r + c\\right)}{H^{2} r^{2} - 2 H c r + c^{2}} & 0 & 0\\\\- \\frac{H \\left(- H r + c\\right)}{H^{2} r^{2} - 2 H c r + c^{2}} & 0 & 0 & 0\\\\0 & 0 & 0 & 0\\\\0 & 0 & 0 & 0\\end{matrix}\\right] & \\left[\\begin{matrix}- H \\left(- H r + c\\right) & 0 & 0 & 0\\\\0 & 0 & 0 & 0\\\\0 & 0 & - r & 0\\\\0 & 0 & 0 & - r \\sin^{2}{\\left(\\theta \\right)}\\end{matrix}\\right] & \\left[\\begin{matrix}0 & 0 & 0 & 0\\\\0 & 0 & \\frac{1}{r} & 0\\\\0 & \\frac{1}{r} & 0 & 0\\\\0 & 0 & 0 & - \\sin{\\left(\\theta \\right)} \\cos{\\left(\\theta \\right)}\\end{matrix}\\right] & \\left[\\begin{matrix}0 & 0 & 0 & 0\\\\0 & 0 & 0 & \\frac{1}{r}\\\\0 & 0 & 0 & \\frac{\\cos{\\left(\\theta \\right)}}{\\sin{\\left(\\theta \\right)}}\\\\0 & \\frac{1}{r} & \\frac{\\cos{\\left(\\theta \\right)}}{\\sin{\\left(\\theta \\right)}} & 0\\end{matrix}\\right]\\end{matrix}\\right]$"
      ],
      "text/plain": [
       "⎡⎡                         -H⋅(-H⋅r + c)          ⎤                           \n",
       "⎢⎢         0            ────────────────────  0  0⎥                           \n",
       "⎢⎢                       2  2              2      ⎥  ⎡-H⋅(-H⋅r + c)  0  0     \n",
       "⎢⎢                      H ⋅r  - 2⋅H⋅c⋅r + c       ⎥  ⎢                        \n",
       "⎢⎢                                                ⎥  ⎢      0        0  0     \n",
       "⎢⎢   -H⋅(-H⋅r + c)                                ⎥  ⎢                        \n",
       "⎢⎢────────────────────           0            0  0⎥  ⎢      0        0  -r    \n",
       "⎢⎢ 2  2              2                            ⎥  ⎢                        \n",
       "⎢⎢H ⋅r  - 2⋅H⋅c⋅r + c                             ⎥  ⎢                        \n",
       "⎢⎢                                                ⎥  ⎣      0        0  0   -r\n",
       "⎢⎢         0                     0            0  0⎥                           \n",
       "⎢⎢                                                ⎥                           \n",
       "⎣⎣         0                     0            0  0⎦                           \n",
       "\n",
       "                                      ⎡0  0    0       0   ⎤⎤\n",
       "           ⎡0  0  0        0       ⎤  ⎢                    ⎥⎥\n",
       "  0     ⎤  ⎢                       ⎥  ⎢                1   ⎥⎥\n",
       "        ⎥  ⎢      1                ⎥  ⎢0  0    0       ─   ⎥⎥\n",
       "  0     ⎥  ⎢0  0  ─        0       ⎥  ⎢                r   ⎥⎥\n",
       "        ⎥  ⎢      r                ⎥  ⎢                    ⎥⎥\n",
       "  0     ⎥  ⎢                       ⎥  ⎢              cos(θ)⎥⎥\n",
       "        ⎥  ⎢   1                   ⎥  ⎢0  0    0     ──────⎥⎥\n",
       "    2   ⎥  ⎢0  ─  0        0       ⎥  ⎢              sin(θ)⎥⎥\n",
       "⋅sin (θ)⎦  ⎢   r                   ⎥  ⎢                    ⎥⎥\n",
       "           ⎢                       ⎥  ⎢   1  cos(θ)        ⎥⎥\n",
       "           ⎣0  0  0  -sin(θ)⋅cos(θ)⎦  ⎢0  ─  ──────    0   ⎥⎥\n",
       "                                      ⎣   r  sin(θ)        ⎦⎦"
      ]
     },
     "execution_count": 5,
     "metadata": {},
     "output_type": "execute_result"
    }
   ],
   "source": [
    "ch = ChristoffelSymbols.from_metric(m_obj)\n",
    "ch.tensor()"
   ]
  },
  {
   "cell_type": "code",
   "execution_count": 6,
   "id": "c84baa17-8be0-4406-9f71-3561d2ee32ad",
   "metadata": {
    "tags": []
   },
   "outputs": [
    {
     "data": {
      "text/latex": [
       "$\\displaystyle \\left[\\begin{matrix}\\left[\\begin{matrix}0 & 0 & 0 & 0\\\\0 & 0 & 0 & 0\\\\0 & 0 & 0 & 0\\\\0 & 0 & 0 & 0\\end{matrix}\\right] & \\left[\\begin{matrix}0 & 0 & 0 & 0\\\\0 & 0 & 0 & 0\\\\0 & 0 & 0 & 0\\\\0 & 0 & 0 & 0\\end{matrix}\\right] & \\left[\\begin{matrix}0 & 0 & - \\frac{H r}{H r - c} & 0\\\\0 & 0 & 0 & 0\\\\\\frac{H r}{H r - c} & 0 & 0 & 0\\\\0 & 0 & 0 & 0\\end{matrix}\\right] & \\left[\\begin{matrix}0 & 0 & 0 & - \\frac{H r \\sin^{2}{\\left(\\theta \\right)}}{H r - c}\\\\0 & 0 & 0 & 0\\\\0 & 0 & 0 & 0\\\\\\frac{H r \\sin^{2}{\\left(\\theta \\right)}}{H r - c} & 0 & 0 & 0\\end{matrix}\\right]\\\\\\left[\\begin{matrix}0 & 0 & 0 & 0\\\\0 & 0 & 0 & 0\\\\0 & 0 & 0 & 0\\\\0 & 0 & 0 & 0\\end{matrix}\\right] & \\left[\\begin{matrix}0 & 0 & 0 & 0\\\\0 & 0 & 0 & 0\\\\0 & 0 & 0 & 0\\\\0 & 0 & 0 & 0\\end{matrix}\\right] & \\left[\\begin{matrix}0 & 0 & 0 & 0\\\\0 & 0 & 0 & 0\\\\0 & 0 & 0 & 0\\\\0 & 0 & 0 & 0\\end{matrix}\\right] & \\left[\\begin{matrix}0 & 0 & 0 & 0\\\\0 & 0 & 0 & 0\\\\0 & 0 & 0 & 0\\\\0 & 0 & 0 & 0\\end{matrix}\\right]\\\\\\left[\\begin{matrix}0 & 0 & \\frac{H \\left(- H r + c\\right)}{r} & 0\\\\0 & 0 & 0 & 0\\\\\\frac{H \\left(H r - c\\right)}{r} & 0 & 0 & 0\\\\0 & 0 & 0 & 0\\end{matrix}\\right] & \\left[\\begin{matrix}0 & 0 & 0 & 0\\\\0 & 0 & 0 & 0\\\\0 & 0 & 0 & 0\\\\0 & 0 & 0 & 0\\end{matrix}\\right] & \\left[\\begin{matrix}0 & 0 & 0 & 0\\\\0 & 0 & 0 & 0\\\\0 & 0 & 0 & 0\\\\0 & 0 & 0 & 0\\end{matrix}\\right] & \\left[\\begin{matrix}0 & 0 & 0 & 0\\\\0 & 0 & 0 & 0\\\\0 & 0 & 0 & 0\\\\0 & 0 & 0 & 0\\end{matrix}\\right]\\\\\\left[\\begin{matrix}0 & 0 & 0 & \\frac{H \\left(- H r + c\\right)}{r}\\\\0 & 0 & 0 & 0\\\\0 & 0 & 0 & 0\\\\\\frac{H \\left(H r - c\\right)}{r} & 0 & 0 & 0\\end{matrix}\\right] & \\left[\\begin{matrix}0 & 0 & 0 & 0\\\\0 & 0 & 0 & 0\\\\0 & 0 & 0 & 0\\\\0 & 0 & 0 & 0\\end{matrix}\\right] & \\left[\\begin{matrix}0 & 0 & 0 & 0\\\\0 & 0 & 0 & 0\\\\0 & 0 & 0 & 0\\\\0 & 0 & 0 & 0\\end{matrix}\\right] & \\left[\\begin{matrix}0 & 0 & 0 & 0\\\\0 & 0 & 0 & 0\\\\0 & 0 & 0 & 0\\\\0 & 0 & 0 & 0\\end{matrix}\\right]\\end{matrix}\\right]$"
      ],
      "text/plain": [
       "⎡                                                                           ⎡ \n",
       "⎢                                                 ⎡             -H⋅r     ⎤  ⎢ \n",
       "⎢                                                 ⎢   0     0  ───────  0⎥  ⎢ \n",
       "⎢          ⎡0  0  0  0⎤             ⎡0  0  0  0⎤  ⎢            H⋅r - c   ⎥  ⎢ \n",
       "⎢          ⎢          ⎥             ⎢          ⎥  ⎢                      ⎥  ⎢ \n",
       "⎢          ⎢0  0  0  0⎥             ⎢0  0  0  0⎥  ⎢   0     0     0     0⎥  ⎢ \n",
       "⎢          ⎢          ⎥             ⎢          ⎥  ⎢                      ⎥  ⎢ \n",
       "⎢          ⎢0  0  0  0⎥             ⎢0  0  0  0⎥  ⎢  H⋅r                 ⎥  ⎢ \n",
       "⎢          ⎢          ⎥             ⎢          ⎥  ⎢───────  0     0     0⎥  ⎢ \n",
       "⎢          ⎣0  0  0  0⎦             ⎣0  0  0  0⎦  ⎢H⋅r - c               ⎥  ⎢ \n",
       "⎢                                                 ⎢                      ⎥  ⎢H\n",
       "⎢                                                 ⎣   0     0     0     0⎦  ⎢─\n",
       "⎢                                                                           ⎣ \n",
       "⎢                                                                             \n",
       "⎢          ⎡0  0  0  0⎤             ⎡0  0  0  0⎤        ⎡0  0  0  0⎤          \n",
       "⎢          ⎢          ⎥             ⎢          ⎥        ⎢          ⎥          \n",
       "⎢          ⎢0  0  0  0⎥             ⎢0  0  0  0⎥        ⎢0  0  0  0⎥          \n",
       "⎢          ⎢          ⎥             ⎢          ⎥        ⎢          ⎥          \n",
       "⎢          ⎢0  0  0  0⎥             ⎢0  0  0  0⎥        ⎢0  0  0  0⎥          \n",
       "⎢          ⎢          ⎥             ⎢          ⎥        ⎢          ⎥          \n",
       "⎢          ⎣0  0  0  0⎦             ⎣0  0  0  0⎦        ⎣0  0  0  0⎦          \n",
       "⎢                                                                             \n",
       "⎢⎡                H⋅(-H⋅r + c)   ⎤                                            \n",
       "⎢⎢     0       0  ────────────  0⎥                                            \n",
       "⎢⎢                     r         ⎥  ⎡0  0  0  0⎤        ⎡0  0  0  0⎤          \n",
       "⎢⎢                               ⎥  ⎢          ⎥        ⎢          ⎥          \n",
       "⎢⎢     0       0       0        0⎥  ⎢0  0  0  0⎥        ⎢0  0  0  0⎥          \n",
       "⎢⎢                               ⎥  ⎢          ⎥        ⎢          ⎥          \n",
       "⎢⎢H⋅(H⋅r - c)                    ⎥  ⎢0  0  0  0⎥        ⎢0  0  0  0⎥          \n",
       "⎢⎢───────────  0       0        0⎥  ⎢          ⎥        ⎢          ⎥          \n",
       "⎢⎢     r                         ⎥  ⎣0  0  0  0⎦        ⎣0  0  0  0⎦          \n",
       "⎢⎢                               ⎥                                            \n",
       "⎢⎣     0       0       0        0⎦                                            \n",
       "⎢                                                                             \n",
       "⎢⎡                   H⋅(-H⋅r + c)⎤                                            \n",
       "⎢⎢     0       0  0  ────────────⎥                                            \n",
       "⎢⎢                        r      ⎥  ⎡0  0  0  0⎤        ⎡0  0  0  0⎤          \n",
       "⎢⎢                               ⎥  ⎢          ⎥        ⎢          ⎥          \n",
       "⎢⎢     0       0  0       0      ⎥  ⎢0  0  0  0⎥        ⎢0  0  0  0⎥          \n",
       "⎢⎢                               ⎥  ⎢          ⎥        ⎢          ⎥          \n",
       "⎢⎢     0       0  0       0      ⎥  ⎢0  0  0  0⎥        ⎢0  0  0  0⎥          \n",
       "⎢⎢                               ⎥  ⎢          ⎥        ⎢          ⎥          \n",
       "⎢⎢H⋅(H⋅r - c)                    ⎥  ⎣0  0  0  0⎦        ⎣0  0  0  0⎦          \n",
       "⎢⎢───────────  0  0       0      ⎥                                            \n",
       "⎣⎣     r                         ⎦                                            \n",
       "\n",
       "                          2    ⎤⎤\n",
       "                  -H⋅r⋅sin (θ) ⎥⎥\n",
       "    0       0  0  ─────────────⎥⎥\n",
       "                     H⋅r - c   ⎥⎥\n",
       "                               ⎥⎥\n",
       "    0       0  0        0      ⎥⎥\n",
       "                               ⎥⎥\n",
       "    0       0  0        0      ⎥⎥\n",
       "                               ⎥⎥\n",
       "      2                        ⎥⎥\n",
       "⋅r⋅sin (θ)                     ⎥⎥\n",
       "──────────  0  0        0      ⎥⎥\n",
       " H⋅r - c                       ⎦⎥\n",
       "                                ⎥\n",
       "         ⎡0  0  0  0⎤           ⎥\n",
       "         ⎢          ⎥           ⎥\n",
       "         ⎢0  0  0  0⎥           ⎥\n",
       "         ⎢          ⎥           ⎥\n",
       "         ⎢0  0  0  0⎥           ⎥\n",
       "         ⎢          ⎥           ⎥\n",
       "         ⎣0  0  0  0⎦           ⎥\n",
       "                                ⎥\n",
       "                                ⎥\n",
       "                                ⎥\n",
       "         ⎡0  0  0  0⎤           ⎥\n",
       "         ⎢          ⎥           ⎥\n",
       "         ⎢0  0  0  0⎥           ⎥\n",
       "         ⎢          ⎥           ⎥\n",
       "         ⎢0  0  0  0⎥           ⎥\n",
       "         ⎢          ⎥           ⎥\n",
       "         ⎣0  0  0  0⎦           ⎥\n",
       "                                ⎥\n",
       "                                ⎥\n",
       "                                ⎥\n",
       "                                ⎥\n",
       "                                ⎥\n",
       "         ⎡0  0  0  0⎤           ⎥\n",
       "         ⎢          ⎥           ⎥\n",
       "         ⎢0  0  0  0⎥           ⎥\n",
       "         ⎢          ⎥           ⎥\n",
       "         ⎢0  0  0  0⎥           ⎥\n",
       "         ⎢          ⎥           ⎥\n",
       "         ⎣0  0  0  0⎦           ⎥\n",
       "                                ⎥\n",
       "                                ⎦"
      ]
     },
     "execution_count": 6,
     "metadata": {},
     "output_type": "execute_result"
    }
   ],
   "source": [
    "rm1 = RiemannCurvatureTensor.from_metric(m_obj)\n",
    "rm1.tensor()"
   ]
  },
  {
   "cell_type": "code",
   "execution_count": null,
   "id": "e216cb5b-9411-4517-9468-a86e63baf039",
   "metadata": {},
   "outputs": [],
   "source": []
  }
 ],
 "metadata": {
  "kernelspec": {
   "display_name": "Python 3 (ipykernel)",
   "language": "python",
   "name": "python3"
  },
  "language_info": {
   "codemirror_mode": {
    "name": "ipython",
    "version": 3
   },
   "file_extension": ".py",
   "mimetype": "text/x-python",
   "name": "python",
   "nbconvert_exporter": "python",
   "pygments_lexer": "ipython3",
   "version": "3.10.12"
  }
 },
 "nbformat": 4,
 "nbformat_minor": 5
}
